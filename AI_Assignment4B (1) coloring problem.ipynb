{
  "nbformat": 4,
  "nbformat_minor": 0,
  "metadata": {
    "colab": {
      "name": "AI Assignment4B.ipynb",
      "provenance": []
    },
    "kernelspec": {
      "name": "python3",
      "display_name": "Python 3"
    },
    "language_info": {
      "name": "python"
    }
  },
  "cells": [
    {
      "cell_type": "code",
      "execution_count": null,
      "metadata": {
        "colab": {
          "base_uri": "https://localhost:8080/"
        },
        "id": "g6NFR0Ft_2go",
        "outputId": "d19a2c17-dfce-4b37-f7d5-6b36b1f79521"
      },
      "outputs": [
        {
          "output_type": "stream",
          "name": "stdout",
          "text": [
            "Solution Exists: Following are the assigned colors \n",
            "1 2 3 2 "
          ]
        }
      ],
      "source": [
        "# Number of vertices in the graph\n",
        "# define 4 4\n",
        "\n",
        "# check if the colored\n",
        "# graph is safe or not\n",
        "def isSafe(graph, color):\n",
        "\n",
        "\t# check for every edge\n",
        "\tfor i in range(4):\n",
        "\t\tfor j in range(i + 1, 4):\n",
        "\t\t\tif (graph[i][j] and color[j] == color[i]):\n",
        "\t\t\t\treturn False\n",
        "\treturn True\n",
        "\n",
        "# /* This function solves the m Coloring\n",
        "# problem using recursion. It returns\n",
        "# false if the m colours cannot be assigned,\n",
        "# otherwise, return true and prints\n",
        "# assignments of colours to all vertices.\n",
        "# Please note that there may be more than\n",
        "# one solutions, this function prints one\n",
        "# of the feasible solutions.*/\n",
        "def graphColoring(graph, m, i, color):\n",
        "\n",
        "\t# if current index reached end\n",
        "\tif (i == 4):\n",
        "\n",
        "\t\t# if coloring is safe\n",
        "\t\tif (isSafe(graph, color)):\n",
        "\n",
        "\t\t\t# Print the solution\n",
        "\t\t\tprintSolution(color)\n",
        "\t\t\treturn True\n",
        "\t\treturn False\n",
        "\n",
        "\t# Assign each color from 1 to m\n",
        "\tfor j in range(1, m + 1):\n",
        "\t\tcolor[i] = j\n",
        "\n",
        "\t\t# Recur of the rest vertices\n",
        "\t\tif (graphColoring(graph, m, i + 1, color)):\n",
        "\t\t\treturn True\n",
        "\t\tcolor[i] = 0\n",
        "\treturn False\n",
        "\n",
        "# /* A utility function to print solution */\n",
        "def printSolution(color):\n",
        "\tprint(\"Solution Exists:\" \" Following are the assigned colors \")\n",
        "\tfor i in range(4):\n",
        "\t\tprint(color[i],end=\" \")\n",
        "\n",
        "# Driver code\n",
        "if __name__ == '__main__':\n",
        "\n",
        "\t# /* Create following graph and\n",
        "\t# test whether it is 3 colorable\n",
        "\t# (3)---(2)\n",
        "\t# | / |\n",
        "\t# | / |\n",
        "\t# | / |\n",
        "\t# (0)---(1)\n",
        "\t# */\n",
        "\tgraph = [\n",
        "\t\t[ 0, 1, 1, 1 ],\n",
        "\t\t[ 1, 0, 1, 0 ],\n",
        "\t\t[ 1, 1, 0, 1 ],\n",
        "\t\t[ 1, 0, 1, 0 ],\n",
        "\t]\n",
        "\tm = 3 # Number of colors\n",
        "\n",
        "\t# Initialize all color values as 0.\n",
        "\t# This initialization is needed\n",
        "\t# correct functioning of isSafe()\n",
        "\tcolor = [0 for i in range(4)]\n",
        "\n",
        "\tif (not graphColoring(graph, m, 0, color)):\n",
        "\t\tprint (\"Solution does not exist\")\n",
        "\n",
        "# This code is contributed by mohit kumar 29\n"
      ]
    }
  ]
}