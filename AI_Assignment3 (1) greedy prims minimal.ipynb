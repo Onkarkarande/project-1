{
  "nbformat": 4,
  "nbformat_minor": 0,
  "metadata": {
    "colab": {
      "name": "AI Assignment3.ipynb",
      "provenance": []
    },
    "kernelspec": {
      "name": "python3",
      "display_name": "Python 3"
    },
    "language_info": {
      "name": "python"
    }
  },
  "cells": [
    {
      "cell_type": "code",
      "execution_count": null,
      "metadata": {
        "colab": {
          "base_uri": "https://localhost:8080/"
        },
        "id": "_boKJSiu-YGk",
        "outputId": "b0c16a2d-2f25-4a3f-bdad-10fed1443c9d"
      },
      "outputs": [
        {
          "output_type": "stream",
          "name": "stdout",
          "text": [
            "Edge : Weight\n",
            "\n",
            "0-2:5\n",
            "2-3:1\n",
            "3-4:1\n",
            "4-1:2\n"
          ]
        }
      ],
      "source": [
        "# Prim's Algorithm in Python\n",
        "\n",
        "INF = 9999999\n",
        "# number of vertices in graph\n",
        "N = 5\n",
        "#creating graph by adjacency matrix method\n",
        "G = [[0, 19, 5, 0, 0],\n",
        "     [19, 0, 5, 9, 2],\n",
        "     [5, 5, 0, 1, 6],\n",
        "     [0, 9, 1, 0, 1],\n",
        "     [0, 2, 6, 1, 0]]\n",
        "\n",
        "selected_node = [0, 0, 0, 0, 0]\n",
        "\n",
        "no_edge = 0\n",
        "\n",
        "selected_node[0] = True\n",
        "\n",
        "# printing for edge and weight\n",
        "print(\"Edge : Weight\\n\")\n",
        "while (no_edge < N - 1):\n",
        "    \n",
        "    minimum = INF\n",
        "    a = 0\n",
        "    b = 0\n",
        "    for m in range(N):\n",
        "        if selected_node[m]:\n",
        "            for n in range(N):\n",
        "                if ((not selected_node[n]) and G[m][n]):  \n",
        "                    # not in selected and there is an edge\n",
        "                    if minimum > G[m][n]:\n",
        "                        minimum = G[m][n]\n",
        "                        a = m\n",
        "                        b = n\n",
        "    print(str(a) + \"-\" + str(b) + \":\" + str(G[a][b]))\n",
        "    selected_node[b] = True\n",
        "    no_edge += 1"
      ]
    },
    {
      "cell_type": "code",
      "source": [
        ""
      ],
      "metadata": {
        "id": "_TYSzzir-d0J"
      },
      "execution_count": null,
      "outputs": []
    }
  ]
}